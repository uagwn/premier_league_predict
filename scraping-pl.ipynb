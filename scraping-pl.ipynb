{
 "cells": [
  {
   "cell_type": "code",
   "execution_count": null,
   "id": "b7ab5a87-d67c-4ee3-9bcf-46c073fe7e04",
   "metadata": {
    "tags": []
   },
   "outputs": [],
   "source": [
    "import requests"
   ]
  },
  {
   "cell_type": "code",
   "execution_count": null,
   "id": "45f38506-2b14-46bb-a424-8388cd442f01",
   "metadata": {
    "tags": []
   },
   "outputs": [],
   "source": [
    "team = \"https://www.basketball-reference.com/teams/TOR/2024.html\""
   ]
  },
  {
   "cell_type": "code",
   "execution_count": null,
   "id": "53e22fc3-7804-4ec1-a1f7-dd8db36a0a57",
   "metadata": {
    "tags": []
   },
   "outputs": [],
   "source": [
    "data = requests.get(team)"
   ]
  },
  {
   "cell_type": "code",
   "execution_count": null,
   "id": "cb544735-3e4c-4895-a134-d35f5f0b5a2f",
   "metadata": {
    "tags": []
   },
   "outputs": [],
   "source": [
    "from bs4 import BeautifulSoup"
   ]
  },
  {
   "cell_type": "code",
   "execution_count": null,
   "id": "23ad7889-1901-4033-8f9c-90fc86163326",
   "metadata": {
    "tags": []
   },
   "outputs": [],
   "source": [
    "soup = BeautifulSoup(data.text)"
   ]
  },
  {
   "cell_type": "code",
   "execution_count": null,
   "id": "8fc7d971-01a7-4ae6-9705-6035319dd538",
   "metadata": {
    "tags": []
   },
   "outputs": [],
   "source": [
    "links = soup.find_all('a')"
   ]
  },
  {
   "cell_type": "code",
   "execution_count": null,
   "id": "9c889a10-2885-4aa5-83a7-2b18c810daa3",
   "metadata": {
    "tags": []
   },
   "outputs": [],
   "source": [
    "links"
   ]
  },
  {
   "cell_type": "code",
   "execution_count": null,
   "id": "11faf8cf-a5a4-4640-b575-e539f05930b6",
   "metadata": {
    "tags": []
   },
   "outputs": [],
   "source": [
    "links = [l.get(\"href\") for l in links]"
   ]
  },
  {
   "cell_type": "code",
   "execution_count": null,
   "id": "5dccab15-2580-44d1-be14-31a7d9e1b62f",
   "metadata": {
    "tags": []
   },
   "outputs": [],
   "source": [
    "links"
   ]
  },
  {
   "cell_type": "code",
   "execution_count": null,
   "id": "9cd42698-69c4-4d81-9666-af80540d5cf1",
   "metadata": {
    "tags": []
   },
   "outputs": [],
   "source": [
    "links = [l for l in links if '/players/'  in l]"
   ]
  },
  {
   "cell_type": "code",
   "execution_count": null,
   "id": "3ce142da-5e88-47fd-9ed2-76e744bd8d06",
   "metadata": {
    "tags": []
   },
   "outputs": [],
   "source": [
    "links"
   ]
  },
  {
   "cell_type": "code",
   "execution_count": null,
   "id": "85b88574-918b-4975-8453-de7a4443cd72",
   "metadata": {
    "tags": []
   },
   "outputs": [],
   "source": [
    "links"
   ]
  },
  {
   "cell_type": "code",
   "execution_count": null,
   "id": "3a6f988b-eb70-48b9-86ac-9d0a9524a19f",
   "metadata": {
    "tags": []
   },
   "outputs": [],
   "source": [
    "teams_url = [f\"https://www.basketball-reference.com/{l}\" for l in links]\n"
   ]
  },
  {
   "cell_type": "code",
   "execution_count": null,
   "id": "24473edb-b8d2-494b-8dda-a54db4bb0239",
   "metadata": {
    "tags": []
   },
   "outputs": [],
   "source": [
    "teams_url"
   ]
  },
  {
   "cell_type": "code",
   "execution_count": null,
   "id": "3d4bf768-3739-4e8e-9463-020af878fb40",
   "metadata": {
    "tags": []
   },
   "outputs": [],
   "source": [
    "team_url = teams_url[3]"
   ]
  },
  {
   "cell_type": "code",
   "execution_count": null,
   "id": "7526ca63-c233-47f0-9146-e2260fdc58b6",
   "metadata": {
    "tags": []
   },
   "outputs": [],
   "source": [
    "all_players = []"
   ]
  },
  {
   "cell_type": "code",
   "execution_count": null,
   "id": "b7a77ab2-149a-4b1b-a8a1-70da38e0217b",
   "metadata": {
    "tags": []
   },
   "outputs": [],
   "source": [
    "for team_url in teams_url:\n",
    "    time.sleep(1)\n",
    "    page =  requests.get (f\"https://www.basketball-reference.com/{team_url}\")\n",
    "   \n",
    "\n",
    "    for team_url in teams_url:\n",
    "        html = BeautifulSoup(page.text, \"lxml\")\n",
    "        tables = html.find(\"table\", class_=\"sortable stats_table now_sortable\")\n",
    "        tables.find_all('a')\n",
    "    "
   ]
  },
  {
   "cell_type": "code",
   "execution_count": null,
   "id": "3f578b11-8f30-4c69-a47c-33415bf06654",
   "metadata": {
    "tags": []
   },
   "outputs": [],
   "source": [
    "tables"
   ]
  },
  {
   "cell_type": "code",
   "execution_count": null,
   "id": "2bcc006b-7628-4edf-bf14-c7b1ebb96dff",
   "metadata": {
    "tags": []
   },
   "outputs": [],
   "source": [
    "page =  requests.get (f\"https://www.basketball-reference.com/{teams_url}\")\n",
    "html = BeautifulSoup(page.text)\n",
    "tables = html.select('table#roster')\n",
    "tables"
   ]
  },
  {
   "cell_type": "code",
   "execution_count": null,
   "id": "2774575c-e1f9-4325-b67b-fe256b9ad019",
   "metadata": {
    "tags": []
   },
   "outputs": [],
   "source": [
    "page.text"
   ]
  },
  {
   "cell_type": "code",
   "execution_count": null,
   "id": "42f02078-e823-4eb4-94ca-48d0fb5fd807",
   "metadata": {},
   "outputs": [],
   "source": [
    "links1 = [l.get(\"href\") for l in table]\n",
    "links1 = [l for l in links1 if '/players'  in l]\n",
    "players1 = [f\"https://www.basketball-reference.com/{l}\" for l in links1]"
   ]
  },
  {
   "cell_type": "code",
   "execution_count": null,
   "id": "dea5b398-ab9e-4139-a35c-bb134dbd4711",
   "metadata": {
    "tags": []
   },
   "outputs": [],
   "source": [
    "table"
   ]
  },
  {
   "cell_type": "code",
   "execution_count": null,
   "id": "9c3820fc-8a15-42fe-97a0-fb049ff67dfd",
   "metadata": {},
   "outputs": [],
   "source": [
    "table"
   ]
  },
  {
   "cell_type": "code",
   "execution_count": null,
   "id": "d452b65f-a610-450a-8a55-632f0a73404e",
   "metadata": {
    "tags": []
   },
   "outputs": [],
   "source": [
    "links"
   ]
  },
  {
   "cell_type": "code",
   "execution_count": null,
   "id": "e6899bfe-df68-447d-ae3a-6b0b0a659cd8",
   "metadata": {},
   "outputs": [],
   "source": [
    "sortable stats_table now_sortable"
   ]
  },
  {
   "cell_type": "code",
   "execution_count": null,
   "id": "daa4e6ea-8fe4-4ce3-9bdc-4e5013e0f1eb",
   "metadata": {
    "tags": []
   },
   "outputs": [],
   "source": [
    "driver.get(\"https://www.basketball-reference.com/teams/TOR/2024.html\")\n",
    "elements = driver.find_elements(By.XPATH, \"//tbody/tr[1]/td[1]/a\")\n",
    "\n",
    "for element in elements:\n",
    "    print(element.text)"
   ]
  },
  {
   "cell_type": "code",
   "execution_count": null,
   "id": "dda9b02b-ad69-4ebf-a2b0-f8fbcd9018a7",
   "metadata": {
    "tags": []
   },
   "outputs": [],
   "source": [
    "elements"
   ]
  },
  {
   "cell_type": "code",
   "execution_count": null,
   "id": "ee7add2d-681c-49d2-849b-7c90ad4f6b1e",
   "metadata": {
    "tags": []
   },
   "outputs": [],
   "source": [
    "player_url = players [7]"
   ]
  },
  {
   "cell_type": "code",
   "execution_count": null,
   "id": "c3d5f062-0139-4ff6-89b9-649bed8f0543",
   "metadata": {
    "tags": []
   },
   "outputs": [],
   "source": [
    "player_url"
   ]
  },
  {
   "cell_type": "code",
   "execution_count": null,
   "id": "414a2150-2cb4-4346-9bd0-200d3139773e",
   "metadata": {
    "tags": []
   },
   "outputs": [],
   "source": [
    "stats = '/html/body/div[2]/div[6]/div[5]/div'\n",
    "\n",
    "tabela = driver.find_element('xpath', stats)\n",
    "\n",
    "html_tabela = tabela.get_attribute('outerHTML')\n",
    "\n",
    "tabela = pd.read_html(str(html_tabela))[0]\n",
    "\n",
    "name = driver.title\n",
    "name = name.replace('2023-24 Game Log | Basketball-Reference.com', '')\n",
    "tabela [\"name\"] = name\n",
    "\n",
    "\n",
    "\n",
    "tabela\n",
    "\n",
    "#name = name.replace('2023-24 Game Log | Basketball-Reference.com', '') \n",
    "#n_df = pd.DataFrame({'name':[name]})\n",
    "#tabela1 = pd.merge(tabela, n_df, right_index=True, left_index=True)\n",
    "\n",
    "\n"
   ]
  },
  {
   "cell_type": "code",
   "execution_count": null,
   "id": "86823b21-01d1-408e-90ce-80ef27590faa",
   "metadata": {
    "tags": []
   },
   "outputs": [],
   "source": [
    "tabela"
   ]
  },
  {
   "cell_type": "code",
   "execution_count": null,
   "id": "c6b484f3-c74d-4e7a-9309-3858d47bd50b",
   "metadata": {
    "tags": []
   },
   "outputs": [],
   "source": [
    "name = driver.title "
   ]
  },
  {
   "cell_type": "code",
   "execution_count": null,
   "id": "a812cbec-c2bc-4bba-8818-c4f80dde5b13",
   "metadata": {
    "tags": []
   },
   "outputs": [],
   "source": [
    "name = name.replace('2023-24 Game Log | Basketball-Reference.com', '')"
   ]
  },
  {
   "cell_type": "code",
   "execution_count": null,
   "id": "37944e4b-8e6e-4efd-8355-e2947ad9eb5e",
   "metadata": {
    "tags": []
   },
   "outputs": [],
   "source": [
    "name"
   ]
  },
  {
   "cell_type": "code",
   "execution_count": null,
   "id": "a988f301-8906-476f-acfa-f8d3dfadaa9a",
   "metadata": {
    "tags": []
   },
   "outputs": [],
   "source": [
    "tabela.drop(['Rk', 'G', 'Date', 'Age', 'Tm', 'Unnamed: 5', 'Unnamed: 7','GS','+/-','GmSc'], inplace=True, axis=1, errors='ignore')\n"
   ]
  },
  {
   "cell_type": "code",
   "execution_count": null,
   "id": "43642d26-978f-4fd8-b5eb-32ec164fed97",
   "metadata": {
    "tags": []
   },
   "outputs": [],
   "source": [
    "tabela"
   ]
  },
  {
   "cell_type": "code",
   "execution_count": null,
   "id": "4b36ea83-96cf-4e2b-b2c8-dcf110cae922",
   "metadata": {
    "tags": []
   },
   "outputs": [],
   "source": [
    "import time\n",
    "from selenium import webdriver\n",
    "from selenium.webdriver.support.ui import WebDriverWait\n",
    "from selenium.webdriver.support import expected_conditions as EC\n",
    "from selenium.webdriver.common.by import By\n",
    "from selenium.webdriver.chrome.service import Service\n",
    "from webdriver_manager.chrome import ChromeDriverManager\n",
    "import pandas as pd"
   ]
  },
  {
   "cell_type": "code",
   "execution_count": null,
   "id": "8f7a1def-1fbf-4d71-b9fa-6c74e0c07974",
   "metadata": {
    "tags": []
   },
   "outputs": [],
   "source": [
    "driver = webdriver.Chrome(service = Service(ChromeDriverManager().install()))"
   ]
  },
  {
   "cell_type": "code",
   "execution_count": null,
   "id": "2333c6df-ee66-4ca3-84d7-4ab45d1b3762",
   "metadata": {
    "tags": []
   },
   "outputs": [],
   "source": [
    "options = webdriver.ChromeOptions()\n",
    "options.page_load_strategy = 'none'\n",
    "driver = webdriver.Chrome(options=options)\n",
    "wait = WebDriverWait(driver, 1)"
   ]
  },
  {
   "cell_type": "code",
   "execution_count": null,
   "id": "cfbba74a-b726-4e6a-9bfd-bc4f18fc2fb1",
   "metadata": {},
   "outputs": [],
   "source": []
  },
  {
   "cell_type": "code",
   "execution_count": null,
   "id": "a6a7b6c3-3f9d-44d6-9b66-2c142f22acea",
   "metadata": {
    "tags": []
   },
   "outputs": [],
   "source": [
    "driver.get('https://www.basketball-reference.com//players/d/duranke01/gamelog/2024')\n",
    "stats = '//*[@id=\"all_pgl_basic\"]'\n",
    "tabela = driver.find_element('xpath', stats)\n",
    "html_tabela = tabela.get_attribute('outerHTML')\n",
    "tabela = pd.read_html(str(html_tabela))[0]\n",
    "        "
   ]
  },
  {
   "cell_type": "code",
   "execution_count": null,
   "id": "c35eaeca-aced-4364-8bec-9c470f528b94",
   "metadata": {
    "tags": []
   },
   "outputs": [],
   "source": [
    "all_players = []"
   ]
  },
  {
   "cell_type": "code",
   "execution_count": null,
   "id": "7ce88003-95d1-40ae-844f-898b438b7c4b",
   "metadata": {
    "tags": []
   },
   "outputs": [],
   "source": [
    "all_name = []"
   ]
  },
  {
   "cell_type": "code",
   "execution_count": null,
   "id": "a66da779-ff81-47d8-926e-6e807b0fa740",
   "metadata": {
    "tags": []
   },
   "outputs": [],
   "source": [
    "for player_url in players:\n",
    "     try:\n",
    "        time.sleep(1)\n",
    "        driver.get(player_url)\n",
    "        wait.until(EC.presence_of_element_located((By.ID, 'content')))\n",
    "        stats = '//*[@id=\"all_pgl_basic\"]'\n",
    "        tabela = driver.find_element('xpath', stats)\n",
    "        html_tabela = tabela.get_attribute('outerHTML')\n",
    "        tabela = pd.read_html(str(html_tabela))[0]\n",
    "        name = driver.title\n",
    "        name = name.replace('2023-24 Game Log | Basketball-Reference.com', '')\n",
    "        tabela [\"name\"] = name\n",
    "\n",
    "        \n",
    "        \n",
    "        tabela.drop(['Rk', 'G', 'Date', 'Age', 'Unnamed: 5', 'Unnamed: 7','GS','+/-','GmSc','FG','FGA','FG%', '...', ' FT%', 'ORB', 'DRB', 'STL', 'BLK','FT','TOB', 'PF'], inplace=True, axis=1, errors='ignore')\n",
    "        all_players.append(tabela)\n",
    "        driver.execute_script(\"window.stop();\")\n",
    "        \n",
    "     except:\n",
    "        pass\n",
    "    "
   ]
  },
  {
   "cell_type": "code",
   "execution_count": null,
   "id": "bcbaec49-681c-4636-966d-41fa2ad1a3d0",
   "metadata": {
    "tags": []
   },
   "outputs": [],
   "source": [
    "all_players"
   ]
  },
  {
   "cell_type": "code",
   "execution_count": null,
   "id": "c00cc36f-bf10-4670-ac8d-2eb6a3333352",
   "metadata": {
    "tags": []
   },
   "outputs": [],
   "source": [
    "df_player = pd.DataFrame(all_players)"
   ]
  },
  {
   "cell_type": "code",
   "execution_count": null,
   "id": "dfbfd1a3-4aa6-49f9-b278-08c98d849b47",
   "metadata": {},
   "outputs": [],
   "source": [
    "all_pdf = pd.concat(all_players)"
   ]
  },
  {
   "cell_type": "code",
   "execution_count": null,
   "id": "4e661c87-fbd2-4719-9dbd-af398170e6bb",
   "metadata": {
    "tags": []
   },
   "outputs": [],
   "source": [
    "name_df = pd.DataFrame({'name':all_name})"
   ]
  },
  {
   "cell_type": "code",
   "execution_count": null,
   "id": "cbfab901-fa71-4ca0-b640-23ef2ab2528e",
   "metadata": {
    "tags": []
   },
   "outputs": [],
   "source": [
    "df_pd.merge(all_pdf, name_df, right_index=True, left_index=True)\n"
   ]
  },
  {
   "cell_type": "code",
   "execution_count": null,
   "id": "bf1a4ac2-d605-4788-a353-f3106eb7e98b",
   "metadata": {},
   "outputs": [],
   "source": [
    "df[['name','Tm','Opp',]]"
   ]
  },
  {
   "cell_type": "code",
   "execution_count": null,
   "id": "f4c7ad58-3a26-4cc1-b1f1-0b7620e527b4",
   "metadata": {
    "tags": []
   },
   "outputs": [],
   "source": [
    "all_pdf"
   ]
  },
  {
   "cell_type": "code",
   "execution_count": null,
   "id": "f38a7ed4-bed0-42c3-8e48-e018c6cf9fc5",
   "metadata": {
    "tags": []
   },
   "outputs": [],
   "source": [
    "all_pdf.to_csv(\"players.csv\")"
   ]
  },
  {
   "cell_type": "code",
   "execution_count": null,
   "id": "a1b80dc6-6752-4633-be6f-6e6998876912",
   "metadata": {},
   "outputs": [],
   "source": []
  }
 ],
 "metadata": {
  "kernelspec": {
   "display_name": "Python 3 (ipykernel)",
   "language": "python",
   "name": "python3"
  },
  "language_info": {
   "codemirror_mode": {
    "name": "ipython",
    "version": 3
   },
   "file_extension": ".py",
   "mimetype": "text/x-python",
   "name": "python",
   "nbconvert_exporter": "python",
   "pygments_lexer": "ipython3",
   "version": "3.11.4"
  }
 },
 "nbformat": 4,
 "nbformat_minor": 5
}
